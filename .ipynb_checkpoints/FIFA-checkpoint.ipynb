{
 "cells": [
  {
   "cell_type": "code",
   "execution_count": 201,
   "id": "98a81b66",
   "metadata": {},
   "outputs": [
    {
     "name": "stdout",
     "output_type": "stream",
     "text": [
      "Requirement already satisfied: scikit-learn in c:\\users\\santiago\\anaconda3\\lib\\site-packages (1.0.2)\n",
      "Requirement already satisfied: threadpoolctl>=2.0.0 in c:\\users\\santiago\\anaconda3\\lib\\site-packages (from scikit-learn) (2.2.0)\n",
      "Requirement already satisfied: scipy>=1.1.0 in c:\\users\\santiago\\anaconda3\\lib\\site-packages (from scikit-learn) (1.7.3)\n",
      "Requirement already satisfied: numpy>=1.14.6 in c:\\users\\santiago\\anaconda3\\lib\\site-packages (from scikit-learn) (1.21.5)\n",
      "Requirement already satisfied: joblib>=0.11 in c:\\users\\santiago\\anaconda3\\lib\\site-packages (from scikit-learn) (1.1.0)\n"
     ]
    }
   ],
   "source": [
    "import pandas as pd\n",
    "import numpy as np\n",
    "import math\n",
    "from sklearn import linear_model\n",
    "import matplotlib.pyplot as plt\n",
    "import seaborn as sns\n",
    "from scipy import stats\n",
    "!pip install scikit-learn\n",
    "from sklearn.metrics import r2_score\n",
    "from sklearn.preprocessing import MinMaxScaler\n",
    "from sklearn.model_selection import train_test_split\n",
    "from sklearn.metrics import mean_squared_error"
   ]
  },
  {
   "cell_type": "code",
   "execution_count": 202,
   "id": "2391c7b1",
   "metadata": {},
   "outputs": [
    {
     "data": {
      "text/plain": [
       "(11701, 101)"
      ]
     },
     "execution_count": 202,
     "metadata": {},
     "output_type": "execute_result"
    }
   ],
   "source": [
    "data = pd.read_csv(\"C:\\\\Users\\\\Santiago\\\\Desktop\\\\Ironhack Files\\\\fifa21_train.csv\")\n",
    "data.shape"
   ]
  },
  {
   "cell_type": "code",
   "execution_count": 203,
   "id": "f908585b",
   "metadata": {},
   "outputs": [
    {
     "data": {
      "text/plain": [
       "ID                    int64\n",
       "Name                 object\n",
       "Age                   int64\n",
       "Nationality          object\n",
       "Club                 object\n",
       "BP                   object\n",
       "Position             object\n",
       "Team & Contract      object\n",
       "Height               object\n",
       "Weight               object\n",
       "foot                 object\n",
       "Growth                int64\n",
       "Joined               object\n",
       "Loan Date End        object\n",
       "Value                object\n",
       "Wage                 object\n",
       "Release Clause       object\n",
       "Contract             object\n",
       "Attacking             int64\n",
       "Crossing              int64\n",
       "Finishing             int64\n",
       "Heading Accuracy      int64\n",
       "Short Passing         int64\n",
       "Volleys             float64\n",
       "Skill                 int64\n",
       "Dribbling             int64\n",
       "Curve               float64\n",
       "FK Accuracy           int64\n",
       "Long Passing          int64\n",
       "Ball Control          int64\n",
       "Movement              int64\n",
       "Acceleration          int64\n",
       "Sprint Speed          int64\n",
       "Agility             float64\n",
       "Reactions             int64\n",
       "Balance             float64\n",
       "Power                 int64\n",
       "Shot Power            int64\n",
       "Jumping             float64\n",
       "Stamina               int64\n",
       "Strength              int64\n",
       "Long Shots            int64\n",
       "Mentality             int64\n",
       "Aggression            int64\n",
       "Interceptions       float64\n",
       "Positioning         float64\n",
       "Vision              float64\n",
       "Penalties             int64\n",
       "Composure           float64\n",
       "Defending             int64\n",
       "Marking               int64\n",
       "Standing Tackle       int64\n",
       "Sliding Tackle      float64\n",
       "Goalkeeping           int64\n",
       "GK Diving             int64\n",
       "GK Handling           int64\n",
       "GK Kicking            int64\n",
       "GK Positioning        int64\n",
       "GK Reflexes           int64\n",
       "Total Stats           int64\n",
       "Base Stats            int64\n",
       "W/F                  object\n",
       "SM                   object\n",
       "A/W                  object\n",
       "D/W                  object\n",
       "IR                   object\n",
       "PAC                   int64\n",
       "SHO                   int64\n",
       "PAS                   int64\n",
       "DRI                   int64\n",
       "DEF                   int64\n",
       "PHY                   int64\n",
       "Hits                 object\n",
       "LS                   object\n",
       "ST                   object\n",
       "RS                   object\n",
       "LW                   object\n",
       "LF                   object\n",
       "CF                   object\n",
       "RF                   object\n",
       "RW                   object\n",
       "LAM                  object\n",
       "CAM                  object\n",
       "RAM                  object\n",
       "LM                   object\n",
       "LCM                  object\n",
       "CM                   object\n",
       "RCM                  object\n",
       "RM                   object\n",
       "LWB                  object\n",
       "LDM                  object\n",
       "CDM                  object\n",
       "RDM                  object\n",
       "RWB                  object\n",
       "LB                   object\n",
       "LCB                  object\n",
       "CB                   object\n",
       "RCB                  object\n",
       "RB                   object\n",
       "GK                   object\n",
       "OVA                   int64\n",
       "dtype: object"
      ]
     },
     "execution_count": 203,
     "metadata": {},
     "output_type": "execute_result"
    }
   ],
   "source": [
    "pd.set_option('display.max_rows', None)\n",
    "data.dtypes"
   ]
  },
  {
   "cell_type": "markdown",
   "id": "10e521d8",
   "metadata": {},
   "source": [
    "## ## FIFA | Null values"
   ]
  },
  {
   "cell_type": "code",
   "execution_count": 204,
   "id": "876d2e2b",
   "metadata": {},
   "outputs": [
    {
     "name": "stdout",
     "output_type": "stream",
     "text": [
      "Club                 18\n",
      "Position            288\n",
      "Joined               41\n",
      "Loan Date End     11072\n",
      "Volleys              41\n",
      "Curve                41\n",
      "Agility              41\n",
      "Balance              41\n",
      "Jumping              41\n",
      "Interceptions         7\n",
      "Positioning           7\n",
      "Vision               41\n",
      "Composure           279\n",
      "Sliding Tackle       41\n",
      "A/W                  59\n",
      "D/W                  59\n",
      "dtype: int64\n"
     ]
    }
   ],
   "source": [
    "# Check missin values\n",
    "missing_values = data.isnull().sum()\n",
    "columns_with_missing_values = missing_values[missing_values > 0]\n",
    "print(columns_with_missing_values)"
   ]
  },
  {
   "cell_type": "code",
   "execution_count": 205,
   "id": "e8c33d2f",
   "metadata": {},
   "outputs": [],
   "source": [
    "# Loan Date End\n",
    "data = data.drop(columns=['Loan Date End'],axis=1)"
   ]
  },
  {
   "cell_type": "code",
   "execution_count": 206,
   "id": "7fdb5065",
   "metadata": {},
   "outputs": [],
   "source": [
    "# Joined, Volleys, Curve, Agility, Balance, Jumping and Vision\n",
    "data = data.dropna(subset=['Joined']).copy()"
   ]
  },
  {
   "cell_type": "code",
   "execution_count": 207,
   "id": "d4ed3905",
   "metadata": {},
   "outputs": [],
   "source": [
    "# A/W and D/W\n",
    "data = data.dropna(subset=['A/W']).copy()"
   ]
  },
  {
   "cell_type": "code",
   "execution_count": 208,
   "id": "66f85411",
   "metadata": {},
   "outputs": [],
   "source": [
    "# Club\n",
    "data['Club'].fillna('Unkonw/Retire', inplace=True)"
   ]
  },
  {
   "cell_type": "code",
   "execution_count": 209,
   "id": "ceefed81",
   "metadata": {},
   "outputs": [],
   "source": [
    "# Position\n",
    "data['Position'].fillna(data['BP'], inplace=True)"
   ]
  },
  {
   "cell_type": "code",
   "execution_count": 210,
   "id": "c8981638",
   "metadata": {},
   "outputs": [],
   "source": [
    "# Composure\n",
    "data[\"Composure\"] = data.groupby(\"BP\")[\"Composure\"].transform(lambda x: x.fillna(x.mean()))"
   ]
  },
  {
   "cell_type": "code",
   "execution_count": 211,
   "id": "3415aa78",
   "metadata": {},
   "outputs": [
    {
     "name": "stdout",
     "output_type": "stream",
     "text": [
      "Series([], dtype: int64)\n"
     ]
    }
   ],
   "source": [
    "# Check missin values\n",
    "missing_values = data.isnull().sum()\n",
    "columns_with_missing_values = missing_values[missing_values > 0]\n",
    "print(columns_with_missing_values)"
   ]
  },
  {
   "cell_type": "code",
   "execution_count": 212,
   "id": "9462d3ba",
   "metadata": {},
   "outputs": [
    {
     "name": "stdout",
     "output_type": "stream",
     "text": [
      "Series([], dtype: int64)\n"
     ]
    }
   ],
   "source": [
    "# Check missin values\n",
    "missing_values = data.isnull().sum()\n",
    "columns_with_missing_values = missing_values[missing_values > 0]\n",
    "print(columns_with_missing_values)"
   ]
  },
  {
   "cell_type": "markdown",
   "id": "3e1a26fa",
   "metadata": {},
   "source": [
    "## ## FIFA | Numericals"
   ]
  },
  {
   "cell_type": "code",
   "execution_count": 213,
   "id": "c5eb80e2",
   "metadata": {},
   "outputs": [
    {
     "name": "stdout",
     "output_type": "stream",
     "text": [
      "                 Data Type                       Row Value\n",
      "ID                   int64                          202107\n",
      "Name                object                      A. Morales\n",
      "Age                  int64                              30\n",
      "Nationality         object                   United States\n",
      "Club                object              Fortuna Düsseldorf\n",
      "BP                  object                             CDM\n",
      "Position            object                          CDM CM\n",
      "Team & Contract     object  Fortuna Düsseldorf 2018 ~ 2021\n",
      "Height              object                            6'0\"\n",
      "Weight              object                          170lbs\n",
      "foot                object                           Right\n",
      "Growth               int64                               0\n",
      "Joined              object                     Jul 1, 2018\n",
      "Value               object                           €2.6M\n",
      "Wage                object                            €18K\n",
      "Release Clause      object                           €4.2M\n",
      "Contract            object                     2018 ~ 2021\n",
      "Attacking            int64                             291\n",
      "Crossing             int64                              61\n",
      "Finishing            int64                              53\n",
      "Heading Accuracy     int64                              55\n",
      "Short Passing        int64                              73\n",
      "Volleys            float64                            49.0\n",
      "Skill                int64                             327\n",
      "Dribbling            int64                              68\n",
      "Curve              float64                            64.0\n",
      "FK Accuracy          int64                              53\n",
      "Long Passing         int64                              70\n",
      "Ball Control         int64                              72\n",
      "Movement             int64                             343\n",
      "Acceleration         int64                              66\n",
      "Sprint Speed         int64                              63\n",
      "Agility            float64                            72.0\n",
      "Reactions            int64                              70\n",
      "Balance            float64                            72.0\n",
      "Power                int64                             360\n",
      "Shot Power           int64                              70\n",
      "Jumping            float64                            73.0\n",
      "Stamina              int64                              86\n",
      "Strength             int64                              68\n",
      "Long Shots           int64                              63\n",
      "Mentality            int64                             330\n",
      "Aggression           int64                              82\n",
      "Interceptions      float64                            70.0\n",
      "Positioning        float64                            61.0\n",
      "Vision             float64                            72.0\n",
      "Penalties            int64                              45\n",
      "Composure          float64                            67.0\n",
      "Defending            int64                             201\n",
      "Marking              int64                              66\n",
      "Standing Tackle      int64                              67\n",
      "Sliding Tackle     float64                            68.0\n",
      "Goalkeeping          int64                              63\n",
      "GK Diving            int64                               9\n",
      "GK Handling          int64                              13\n",
      "GK Kicking           int64                              13\n",
      "GK Positioning       int64                              16\n",
      "GK Reflexes          int64                              12\n",
      "Total Stats          int64                            1915\n",
      "Base Stats           int64                             403\n",
      "W/F                 object                             3 ★\n",
      "SM                  object                              3★\n",
      "A/W                 object                            High\n",
      "D/W                 object                            High\n",
      "IR                  object                             1 ★\n",
      "PAC                  int64                              64\n",
      "SHO                  int64                              58\n",
      "PAS                  int64                              69\n",
      "DRI                  int64                              70\n",
      "DEF                  int64                              66\n",
      "PHY                  int64                              76\n",
      "Hits                object                              19\n",
      "LS                  object                            63+2\n",
      "ST                  object                            63+2\n",
      "RS                  object                            63+2\n",
      "LW                  object                            66+0\n",
      "LF                  object                            66+0\n",
      "CF                  object                            66+0\n",
      "RF                  object                            66+0\n",
      "RW                  object                            66+0\n",
      "LAM                 object                            68+2\n",
      "CAM                 object                            68+2\n",
      "RAM                 object                            68+2\n",
      "LM                  object                            68+2\n",
      "LCM                 object                            71+1\n",
      "CM                  object                            71+1\n",
      "RCM                 object                            71+1\n",
      "RM                  object                            68+2\n",
      "LWB                 object                            70+2\n",
      "LDM                 object                            71+1\n",
      "CDM                 object                            71+1\n",
      "RDM                 object                            71+1\n",
      "RWB                 object                            70+2\n",
      "LB                  object                            69+2\n",
      "LCB                 object                            68+2\n",
      "CB                  object                            68+2\n",
      "RCB                 object                            68+2\n",
      "RB                  object                            69+2\n",
      "GK                  object                            19+2\n",
      "OVA                  int64                              72\n"
     ]
    }
   ],
   "source": [
    "row_index = 7110\n",
    "\n",
    "# Get the data types of the columns\n",
    "column_data_types = data.dtypes\n",
    "\n",
    "# Get the values of the specified row\n",
    "row_values = data.iloc[row_index]\n",
    "\n",
    "# Display data types and row values together\n",
    "result = pd.concat([column_data_types, row_values], axis=1)\n",
    "result.columns = ['Data Type', 'Row Value']\n",
    "print(result)"
   ]
  },
  {
   "cell_type": "code",
   "execution_count": 214,
   "id": "22106309",
   "metadata": {},
   "outputs": [],
   "source": [
    "# Positions\n",
    "columns = ['LS', 'ST', 'RS', 'LW', 'LF', 'CF', 'RF', 'RW', 'LAM', 'CAM', 'RAM', 'LM', 'LCM', 'CM', 'RCM', 'RM', 'LWB', 'LDM', 'CDM', 'RDM', 'RWB', 'LB', 'LCB', 'CB', 'RCB', 'RB', 'GK']\n",
    "for column in columns:\n",
    "    data[column] = data[column].astype(str).str.extract(r'(\\d{2})').astype(float)"
   ]
  },
  {
   "cell_type": "code",
   "execution_count": 215,
   "id": "8c6fc535",
   "metadata": {},
   "outputs": [],
   "source": [
    "# Height\n",
    "def height_to_cm(height_str):\n",
    "    #split the numbers to separate feet from inches\n",
    "    feet, inches = height_str.split(\"'\")\n",
    "    \n",
    "    # remove the doble queote and conver to integers\n",
    "    feet = int(feet)\n",
    "    inches = int(inches.replace(\"\\\"\",\"\"))\n",
    "    \n",
    "    #conversion\n",
    "    total_inches = (feet * 12) +inches\n",
    "    return total_inches * 2.54\n",
    "\n",
    "data['Height'] = data['Height'].apply(height_to_cm)\n",
    "data['Height'] = data['Height'].astype('object')"
   ]
  },
  {
   "cell_type": "code",
   "execution_count": 216,
   "id": "54cce48f",
   "metadata": {},
   "outputs": [],
   "source": [
    "# Weigth\n",
    "def lbs_to_kg(weight):\n",
    "    weight_in_lbs = int(weight.replace('lbs', ''))\n",
    "    weight_in_kg = round(weight_in_lbs * 0.45359237,2)\n",
    "    return weight_in_kg\n",
    "\n",
    "# Apply the conversion function to the 'weight' column\n",
    "data['Weight'] = data['Weight'].apply(lbs_to_kg)\n",
    "data['Weight'] = data['Weight'].astype('object')"
   ]
  },
  {
   "cell_type": "code",
   "execution_count": 217,
   "id": "f19fb94c",
   "metadata": {},
   "outputs": [
    {
     "name": "stderr",
     "output_type": "stream",
     "text": [
      "IOPub data rate exceeded.\n",
      "The notebook server will temporarily stop sending output\n",
      "to the client in order to avoid crashing it.\n",
      "To change this limit, set the config variable\n",
      "`--NotebookApp.iopub_data_rate_limit`.\n",
      "\n",
      "Current values:\n",
      "NotebookApp.iopub_data_rate_limit=1000000.0 (bytes/sec)\n",
      "NotebookApp.rate_limit_window=3.0 (secs)\n",
      "\n"
     ]
    }
   ],
   "source": [
    "# Value\n",
    "money_columns = [\"Value\",\"Wage\", \"Release Clause\"]\n",
    "def money_in_numbers(value_str):\n",
    "    # Remove the euro symbol €\n",
    "    value_str = value_str.replace(\"€\", \"\")\n",
    "    \n",
    "    # Convert K and M to numerical equivalents\n",
    "    if \"K\" in value_str:\n",
    "        return float(value_str.replace(\"K\", \"\")) * 1e3\n",
    "    elif \"M\" in value_str:\n",
    "        return float(value_str.replace(\"M\", \"\")) * 1e6\n",
    "    else:\n",
    "        return float(value_str)\n",
    "\n",
    "# Apply the money_in_numbers function to the specified columns\n",
    "for col in money_columns:\n",
    "    data[col] = data[col].apply(money_in_numbers)\n",
    "\n",
    "# Display the transformed DataFrame\n",
    "print(data)"
   ]
  },
  {
   "cell_type": "code",
   "execution_count": 218,
   "id": "77011af6",
   "metadata": {},
   "outputs": [],
   "source": [
    "# Hits\n",
    "data['Hits'] =data['Hits'].apply(lambda x: float(x.replace('K',''))*1e3 if 'K' in str(x) else x)\n",
    "data['Hits']= data['Hits'].astype(float)"
   ]
  },
  {
   "cell_type": "code",
   "execution_count": 219,
   "id": "f83ddbfb",
   "metadata": {},
   "outputs": [],
   "source": [
    "# BP_value\n",
    "import pandas as pd\n",
    "\n",
    "# Function to get the corresponding value\n",
    "def get_corresponding_value(row):\n",
    "    column_name = row['BP']\n",
    "    return row[column_name]\n",
    "\n",
    "# Apply the function to create a new column\n",
    "data['BP_Value'] = data.apply(get_corresponding_value, axis=1)"
   ]
  },
  {
   "cell_type": "code",
   "execution_count": 220,
   "id": "38416a68",
   "metadata": {},
   "outputs": [],
   "source": [
    "column_name = 'BP_Value'\n",
    "# Define the new position (0-based index) for the column\n",
    "new_position = 6\n",
    "# Remove the column from its current position and store it\n",
    "column_to_move = data.pop(column_name)\n",
    "# Insert the column at the new position\n",
    "data.insert(new_position, column_name, column_to_move)"
   ]
  },
  {
   "cell_type": "code",
   "execution_count": 221,
   "id": "bca9b885",
   "metadata": {},
   "outputs": [],
   "source": [
    "# ID\n",
    "data['ID'] = data['ID'].astype('object')"
   ]
  },
  {
   "cell_type": "markdown",
   "id": "14857251",
   "metadata": {},
   "source": [
    "## FIFA | Modeling"
   ]
  },
  {
   "cell_type": "markdown",
   "id": "41fe8814",
   "metadata": {},
   "source": [
    "## FIFA | Modeling | Correlation"
   ]
  },
  {
   "cell_type": "code",
   "execution_count": 222,
   "id": "3258ed85",
   "metadata": {},
   "outputs": [
    {
     "data": {
      "text/plain": [
       "Index(['Age', 'BP_Value', 'Growth', 'Value', 'Wage', 'Release Clause',\n",
       "       'Attacking', 'Crossing', 'Finishing', 'Heading Accuracy',\n",
       "       'Short Passing', 'Volleys', 'Skill', 'Dribbling', 'Curve',\n",
       "       'FK Accuracy', 'Long Passing', 'Ball Control', 'Movement',\n",
       "       'Acceleration', 'Sprint Speed', 'Agility', 'Reactions', 'Balance',\n",
       "       'Power', 'Shot Power', 'Jumping', 'Stamina', 'Strength', 'Long Shots',\n",
       "       'Mentality', 'Aggression', 'Interceptions', 'Positioning', 'Vision',\n",
       "       'Penalties', 'Composure', 'Defending', 'Marking', 'Standing Tackle',\n",
       "       'Sliding Tackle', 'Goalkeeping', 'GK Diving', 'GK Handling',\n",
       "       'GK Kicking', 'GK Positioning', 'GK Reflexes', 'Total Stats',\n",
       "       'Base Stats', 'PAC', 'SHO', 'PAS', 'DRI', 'DEF', 'PHY', 'Hits', 'LS',\n",
       "       'ST', 'RS', 'LW', 'LF', 'CF', 'RF', 'RW', 'LAM', 'CAM', 'RAM', 'LM',\n",
       "       'LCM', 'CM', 'RCM', 'RM', 'LWB', 'LDM', 'CDM', 'RDM', 'RWB', 'LB',\n",
       "       'LCB', 'CB', 'RCB', 'RB', 'GK', 'OVA'],\n",
       "      dtype='object')"
      ]
     },
     "execution_count": 222,
     "metadata": {},
     "output_type": "execute_result"
    }
   ],
   "source": [
    "numerical=data.select_dtypes('number')#.columns\n",
    "numerical.columns"
   ]
  },
  {
   "cell_type": "code",
   "execution_count": 223,
   "id": "f4913fd6",
   "metadata": {},
   "outputs": [],
   "source": [
    "filtered1 = data[['Growth', 'Value', 'Wage', 'Release Clause','Attacking', 'Crossing','OVA']]\n",
    "filtered2 = data[['Finishing', 'Heading Accuracy','Short Passing', 'Volleys', 'Skill', 'Dribbling', 'Curve','OVA']]\n",
    "filtered3 = data[['FK Accuracy', 'Long Passing', 'Ball Control', 'Movement','Acceleration', 'Sprint Speed','OVA']]\n",
    "filtered4 = data[['Agility', 'Reactions', 'Balance','Power', 'Shot Power', 'Jumping', 'Stamina', 'Strength','OVA']]\n",
    "filtered5 = data[['Long Shots','Mentality', 'Aggression', 'Interceptions', 'Positioning', 'Vision','OVA']]\n",
    "filtered6 = data[['Penalties', 'Composure', 'Defending', 'Marking', 'Standing Tackle','Sliding Tackle', 'Goalkeeping','OVA']]\n",
    "filtered7 = data[['GK Diving', 'GK Handling','GK Kicking', 'GK Positioning', 'GK Reflexes', 'Total Stats','OVA']]\n",
    "filtered8 = data[['Base Stats', 'PAC', 'SHO', 'PAS', 'DRI', 'DEF', 'PHY', 'Hits', 'LS','OVA']]\n",
    "filtered9 = data[['BP_Value','ST', 'RS', 'LW', 'LF', 'CF', 'RF', 'RW', 'LAM', 'CAM', 'RAM', 'LM','OVA']]\n",
    "filtered10 = data[['BP_Value','LCM','RWB', 'LB','LCB', 'CB', 'RCB', 'RB', 'GK','OVA']]\n",
    "filtered11 = data[['BP_Value','CM', 'RCM', 'RM', 'LWB', 'LDM', 'CDM', 'RDM','OVA']]\n",
    "filtered12 = data[['BP_Value','RWB', 'LB','LCB', 'CB', 'RCB', 'RB', 'GK', 'OVA']]\n",
    "filtered13 = data[['BP_Value', 'Reactions','Composure', 'Base Stats','OVA']]"
   ]
  },
  {
   "cell_type": "code",
   "execution_count": 224,
   "id": "7ea9a474",
   "metadata": {},
   "outputs": [
    {
     "data": {
      "image/png": "[encoded data removed]",
      "text/plain": [
       "<Figure size 432x288 with 2 Axes>"
      ]
     },
     "metadata": {
      "needs_background": "light"
     },
     "output_type": "display_data"
    }
   ],
   "source": [
    "correlations_matrix = filtered1.corr()\n",
    "sns.heatmap(correlations_matrix, annot=True)\n",
    "plt.show()"
   ]
  },
  {
   "cell_type": "markdown",
   "id": "b7177eff",
   "metadata": {},
   "source": [
    "### FIFA | Modelin | Linear Regression"
   ]
  },
  {
   "cell_type": "code",
   "execution_count": 225,
   "id": "88b1981c",
   "metadata": {},
   "outputs": [],
   "source": [
    "# separate the features from the labels\n",
    "y = data['OVA']\n",
    "X = data.drop(['OVA','ID','Name','Team & Contract','Contract','Height', 'Weight','Nationality','Club','Joined', 'W/F', 'SM', 'A/W', 'D/W', 'IR', 'BP', 'Position'],axis=1)"
   ]
  },
  {
   "cell_type": "code",
   "execution_count": 226,
   "id": "cc7772cd",
   "metadata": {},
   "outputs": [],
   "source": [
    "#categorical features and numerical ones are going to be treated differently\n",
    "X_num = X.select_dtypes(include = np.number)\n",
    "X_cat = X.select_dtypes(include = object)"
   ]
  },
  {
   "cell_type": "code",
   "execution_count": 227,
   "id": "26286cf6",
   "metadata": {},
   "outputs": [],
   "source": [
    "X_num = data[['Total Stats', 'Reactions', 'PAS', 'Base Stats']]"
   ]
  },
  {
   "cell_type": "markdown",
   "id": "006e5446",
   "metadata": {},
   "source": [
    "### FIFA | Null values | Weird case"
   ]
  },
  {
   "cell_type": "code",
   "execution_count": 228,
   "id": "65e774e8",
   "metadata": {},
   "outputs": [
    {
     "name": "stdout",
     "output_type": "stream",
     "text": [
      "GK    1\n",
      "dtype: int64\n"
     ]
    }
   ],
   "source": [
    "missing_values = data.isnull().sum()\n",
    "columns_with_missing_values = missing_values[missing_values > 0]\n",
    "print(columns_with_missing_values)"
   ]
  },
  {
   "cell_type": "code",
   "execution_count": 229,
   "id": "fe91725e",
   "metadata": {},
   "outputs": [],
   "source": [
    "# GK\n",
    "data.dropna(subset=['GK'], inplace=True)"
   ]
  },
  {
   "cell_type": "markdown",
   "id": "b3dea0ee",
   "metadata": {},
   "source": [
    "### FIFA | Modeling | numerical variables"
   ]
  },
  {
   "cell_type": "code",
   "execution_count": 231,
   "id": "e3192c4e",
   "metadata": {},
   "outputs": [
    {
     "data": {
      "text/plain": [
       "Index(['Total Stats', 'Reactions', 'PAS', 'Base Stats'], dtype='object')"
      ]
     },
     "execution_count": 231,
     "metadata": {},
     "output_type": "execute_result"
    }
   ],
   "source": [
    "X_num.columns"
   ]
  },
  {
   "cell_type": "code",
   "execution_count": 232,
   "id": "63fade66",
   "metadata": {},
   "outputs": [
    {
     "name": "stdout",
     "output_type": "stream",
     "text": [
      "<class 'numpy.ndarray'>\n"
     ]
    },
    {
     "data": {
      "text/html": [
       "<div>\n",
       "<style scoped>\n",
       "    .dataframe tbody tr th:only-of-type {\n",
       "        vertical-align: middle;\n",
       "    }\n",
       "\n",
       "    .dataframe tbody tr th {\n",
       "        vertical-align: top;\n",
       "    }\n",
       "\n",
       "    .dataframe thead th {\n",
       "        text-align: right;\n",
       "    }\n",
       "</style>\n",
       "<table border=\"1\" class=\"dataframe\">\n",
       "  <thead>\n",
       "    <tr style=\"text-align: right;\">\n",
       "      <th></th>\n",
       "      <th>Total Stats</th>\n",
       "      <th>Reactions</th>\n",
       "      <th>PAS</th>\n",
       "      <th>Base Stats</th>\n",
       "    </tr>\n",
       "  </thead>\n",
       "  <tbody>\n",
       "    <tr>\n",
       "      <th>0</th>\n",
       "      <td>0.604577</td>\n",
       "      <td>0.591549</td>\n",
       "      <td>0.558824</td>\n",
       "      <td>0.492366</td>\n",
       "    </tr>\n",
       "    <tr>\n",
       "      <th>1</th>\n",
       "      <td>0.781945</td>\n",
       "      <td>0.718310</td>\n",
       "      <td>0.632353</td>\n",
       "      <td>0.702290</td>\n",
       "    </tr>\n",
       "    <tr>\n",
       "      <th>2</th>\n",
       "      <td>0.759059</td>\n",
       "      <td>0.760563</td>\n",
       "      <td>0.779412</td>\n",
       "      <td>0.671756</td>\n",
       "    </tr>\n",
       "    <tr>\n",
       "      <th>3</th>\n",
       "      <td>0.506039</td>\n",
       "      <td>0.436620</td>\n",
       "      <td>0.426471</td>\n",
       "      <td>0.385496</td>\n",
       "    </tr>\n",
       "    <tr>\n",
       "      <th>4</th>\n",
       "      <td>0.593134</td>\n",
       "      <td>0.535211</td>\n",
       "      <td>0.514706</td>\n",
       "      <td>0.503817</td>\n",
       "    </tr>\n",
       "  </tbody>\n",
       "</table>\n",
       "</div>"
      ],
      "text/plain": [
       "   Total Stats  Reactions       PAS  Base Stats\n",
       "0     0.604577   0.591549  0.558824    0.492366\n",
       "1     0.781945   0.718310  0.632353    0.702290\n",
       "2     0.759059   0.760563  0.779412    0.671756\n",
       "3     0.506039   0.436620  0.426471    0.385496\n",
       "4     0.593134   0.535211  0.514706    0.503817"
      ]
     },
     "metadata": {},
     "output_type": "display_data"
    },
    {
     "name": "stdout",
     "output_type": "stream",
     "text": [
      "<class 'pandas.core.frame.DataFrame'>\n"
     ]
    }
   ],
   "source": [
    "MinMaxtransformer = MinMaxScaler().fit(X_num)\n",
    "X_normalized = MinMaxtransformer.transform(X_num)\n",
    "print(type(X_normalized))\n",
    "X_normalized = pd.DataFrame(X_normalized,columns=X_num.columns)\n",
    "display(X_normalized.head())\n",
    "print(type(X_normalized))"
   ]
  },
  {
   "cell_type": "markdown",
   "id": "0bdfd4d6",
   "metadata": {},
   "source": [
    "### FIFA | Modeling | categorical variables"
   ]
  },
  {
   "cell_type": "code",
   "execution_count": 233,
   "id": "45d426c4",
   "metadata": {},
   "outputs": [
    {
     "data": {
      "text/plain": [
       "Index(['foot'], dtype='object')"
      ]
     },
     "execution_count": 233,
     "metadata": {},
     "output_type": "execute_result"
    }
   ],
   "source": [
    "X_cat.columns"
   ]
  },
  {
   "cell_type": "code",
   "execution_count": 234,
   "id": "f4913015",
   "metadata": {},
   "outputs": [
    {
     "data": {
      "text/html": [
       "<div>\n",
       "<style scoped>\n",
       "    .dataframe tbody tr th:only-of-type {\n",
       "        vertical-align: middle;\n",
       "    }\n",
       "\n",
       "    .dataframe tbody tr th {\n",
       "        vertical-align: top;\n",
       "    }\n",
       "\n",
       "    .dataframe thead th {\n",
       "        text-align: right;\n",
       "    }\n",
       "</style>\n",
       "<table border=\"1\" class=\"dataframe\">\n",
       "  <thead>\n",
       "    <tr style=\"text-align: right;\">\n",
       "      <th></th>\n",
       "      <th>foot_Right</th>\n",
       "    </tr>\n",
       "  </thead>\n",
       "  <tbody>\n",
       "    <tr>\n",
       "      <th>0</th>\n",
       "      <td>1.0</td>\n",
       "    </tr>\n",
       "    <tr>\n",
       "      <th>1</th>\n",
       "      <td>1.0</td>\n",
       "    </tr>\n",
       "    <tr>\n",
       "      <th>2</th>\n",
       "      <td>1.0</td>\n",
       "    </tr>\n",
       "    <tr>\n",
       "      <th>3</th>\n",
       "      <td>1.0</td>\n",
       "    </tr>\n",
       "    <tr>\n",
       "      <th>4</th>\n",
       "      <td>1.0</td>\n",
       "    </tr>\n",
       "  </tbody>\n",
       "</table>\n",
       "</div>"
      ],
      "text/plain": [
       "   foot_Right\n",
       "0         1.0\n",
       "1         1.0\n",
       "2         1.0\n",
       "3         1.0\n",
       "4         1.0"
      ]
     },
     "execution_count": 234,
     "metadata": {},
     "output_type": "execute_result"
    }
   ],
   "source": [
    "from sklearn.preprocessing import OneHotEncoder\n",
    "encoder = OneHotEncoder(drop='first').fit(X_cat)  # Dropping the first varaible of each column\n",
    "encoded = encoder.transform(X_cat).toarray()\n",
    "column_names = encoder.get_feature_names_out(input_features=X_cat.columns) # assigning column names\n",
    "onehot_encoded = pd.DataFrame(encoded, columns=column_names)\n",
    "onehot_encoded.head()"
   ]
  },
  {
   "cell_type": "code",
   "execution_count": 235,
   "id": "7c618f99",
   "metadata": {},
   "outputs": [
    {
     "data": {
      "text/html": [
       "<div>\n",
       "<style scoped>\n",
       "    .dataframe tbody tr th:only-of-type {\n",
       "        vertical-align: middle;\n",
       "    }\n",
       "\n",
       "    .dataframe tbody tr th {\n",
       "        vertical-align: top;\n",
       "    }\n",
       "\n",
       "    .dataframe thead th {\n",
       "        text-align: right;\n",
       "    }\n",
       "</style>\n",
       "<table border=\"1\" class=\"dataframe\">\n",
       "  <thead>\n",
       "    <tr style=\"text-align: right;\">\n",
       "      <th></th>\n",
       "      <th>Total Stats</th>\n",
       "      <th>Reactions</th>\n",
       "      <th>PAS</th>\n",
       "      <th>Base Stats</th>\n",
       "      <th>foot_Right</th>\n",
       "    </tr>\n",
       "  </thead>\n",
       "  <tbody>\n",
       "    <tr>\n",
       "      <th>0</th>\n",
       "      <td>0.604577</td>\n",
       "      <td>0.591549</td>\n",
       "      <td>0.558824</td>\n",
       "      <td>0.492366</td>\n",
       "      <td>1.0</td>\n",
       "    </tr>\n",
       "    <tr>\n",
       "      <th>1</th>\n",
       "      <td>0.781945</td>\n",
       "      <td>0.718310</td>\n",
       "      <td>0.632353</td>\n",
       "      <td>0.702290</td>\n",
       "      <td>1.0</td>\n",
       "    </tr>\n",
       "    <tr>\n",
       "      <th>2</th>\n",
       "      <td>0.759059</td>\n",
       "      <td>0.760563</td>\n",
       "      <td>0.779412</td>\n",
       "      <td>0.671756</td>\n",
       "      <td>1.0</td>\n",
       "    </tr>\n",
       "    <tr>\n",
       "      <th>3</th>\n",
       "      <td>0.506039</td>\n",
       "      <td>0.436620</td>\n",
       "      <td>0.426471</td>\n",
       "      <td>0.385496</td>\n",
       "      <td>1.0</td>\n",
       "    </tr>\n",
       "    <tr>\n",
       "      <th>4</th>\n",
       "      <td>0.593134</td>\n",
       "      <td>0.535211</td>\n",
       "      <td>0.514706</td>\n",
       "      <td>0.503817</td>\n",
       "      <td>1.0</td>\n",
       "    </tr>\n",
       "  </tbody>\n",
       "</table>\n",
       "</div>"
      ],
      "text/plain": [
       "   Total Stats  Reactions       PAS  Base Stats  foot_Right\n",
       "0     0.604577   0.591549  0.558824    0.492366         1.0\n",
       "1     0.781945   0.718310  0.632353    0.702290         1.0\n",
       "2     0.759059   0.760563  0.779412    0.671756         1.0\n",
       "3     0.506039   0.436620  0.426471    0.385496         1.0\n",
       "4     0.593134   0.535211  0.514706    0.503817         1.0"
      ]
     },
     "execution_count": 235,
     "metadata": {},
     "output_type": "execute_result"
    }
   ],
   "source": [
    "# let's merge all this information together into a single dataset with all features, now numerical\n",
    "X = pd.concat([X_normalized, onehot_encoded], axis=1)  # np.concatenate()\n",
    "X.head()"
   ]
  },
  {
   "cell_type": "code",
   "execution_count": 236,
   "id": "f8463486",
   "metadata": {},
   "outputs": [
    {
     "name": "stdout",
     "output_type": "stream",
     "text": [
      "(11642, 5)\n",
      "(11642,)\n"
     ]
    }
   ],
   "source": [
    "print(X.shape)\n",
    "print(y.shape)"
   ]
  },
  {
   "cell_type": "code",
   "execution_count": 237,
   "id": "3de4c2fa",
   "metadata": {},
   "outputs": [],
   "source": [
    "from sklearn.model_selection import train_test_split\n",
    "X_train, X_test, y_train, y_test = train_test_split(X, y, test_size=0.2, random_state=42)"
   ]
  },
  {
   "cell_type": "code",
   "execution_count": 238,
   "id": "74f12ab4",
   "metadata": {},
   "outputs": [],
   "source": [
    "X_train = X_train.dropna()\n",
    "y_train = y_train.dropna()"
   ]
  },
  {
   "cell_type": "code",
   "execution_count": 239,
   "id": "eef8ef3d",
   "metadata": {},
   "outputs": [
    {
     "name": "stdout",
     "output_type": "stream",
     "text": [
      "(9313, 5)\n",
      "(2329, 5)\n",
      "(9313,)\n",
      "(2329,)\n"
     ]
    }
   ],
   "source": [
    "print(X_train.shape)\n",
    "print(X_test.shape)\n",
    "print(y_train.shape)\n",
    "print(y_test.shape)"
   ]
  },
  {
   "cell_type": "code",
   "execution_count": 240,
   "id": "6a0fb340",
   "metadata": {},
   "outputs": [
    {
     "data": {
      "text/plain": [
       "LinearRegression()"
      ]
     },
     "execution_count": 240,
     "metadata": {},
     "output_type": "execute_result"
    }
   ],
   "source": [
    "lm = linear_model.LinearRegression()\n",
    "lm.fit(X_train,y_train)"
   ]
  },
  {
   "cell_type": "code",
   "execution_count": 241,
   "id": "e15b4f90",
   "metadata": {},
   "outputs": [
    {
     "data": {
      "text/plain": [
       "0.8359847387924897"
      ]
     },
     "execution_count": 241,
     "metadata": {},
     "output_type": "execute_result"
    }
   ],
   "source": [
    "#4.1. R_square\n",
    "predictions = lm.predict(X_train)\n",
    "r2_score(y_train, predictions)"
   ]
  },
  {
   "cell_type": "code",
   "execution_count": 242,
   "id": "d591ae48",
   "metadata": {},
   "outputs": [
    {
     "data": {
      "text/plain": [
       "0.8419125669524044"
      ]
     },
     "execution_count": 242,
     "metadata": {},
     "output_type": "execute_result"
    }
   ],
   "source": [
    "predictions_test = lm.predict(X_test)\n",
    "r2_score(y_test, predictions_test) # R-squared(Coefficient of determination) good value > 0.95"
   ]
  },
  {
   "cell_type": "code",
   "execution_count": 243,
   "id": "ed5a0cf7",
   "metadata": {},
   "outputs": [
    {
     "data": {
      "text/plain": [
       "7.472202138419283"
      ]
     },
     "execution_count": 243,
     "metadata": {},
     "output_type": "execute_result"
    }
   ],
   "source": [
    "#4.2 MSE\n",
    "mse=mean_squared_error(y_test,predictions_test)\n",
    "mse # MSE(Mean Squared Error) Lower (close to 0) the MSE, the closer is forecast to actual"
   ]
  },
  {
   "cell_type": "code",
   "execution_count": 244,
   "id": "0d679216",
   "metadata": {},
   "outputs": [
    {
     "data": {
      "text/plain": [
       "2.7335329042137544"
      ]
     },
     "execution_count": 244,
     "metadata": {},
     "output_type": "execute_result"
    }
   ],
   "source": [
    "#4.3 RMSE\n",
    "rmse = np.sqrt(mean_squared_error(y_test,predictions_test))\n",
    "rmse # RMSE(Root Mean Squared Error) values between 0.2 and 0.5"
   ]
  }
 ],
 "metadata": {
  "kernelspec": {
   "display_name": "Python 3 (ipykernel)",
   "language": "python",
   "name": "python3"
  },
  "language_info": {
   "codemirror_mode": {
    "name": "ipython",
    "version": 3
   },
   "file_extension": ".py",
   "mimetype": "text/x-python",
   "name": "python",
   "nbconvert_exporter": "python",
   "pygments_lexer": "ipython3",
   "version": "3.9.12"
  }
 },
 "nbformat": 4,
 "nbformat_minor": 5
}
